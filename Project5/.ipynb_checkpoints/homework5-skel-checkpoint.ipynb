{
 "cells": [
  {
   "cell_type": "markdown",
   "metadata": {},
   "source": [
    "__NAME:__ __Nigel Mansell__  \n",
    "__SECTION:__ __995__  \n",
    "__CS 5970: Machine Learning Practices__\n",
    "\n",
    "# Homework 5: Regularization\n",
    "\n",
    "## Assignment Overview\n",
    "Follow the TODOs and read through and understand any provided code.  \n",
    "For all plots, make sure all necessary axes and curves are clearly and \n",
    "accurately labeled. Include figure/plot titles appropriately as well.\n",
    "\n",
    "### Task\n",
    "For this assignment you will be exploring regularization. Regularization\n",
    "is a powerful tool in machine learning to impose rational constraints on \n",
    "models during the training process to mitigate overfitting to the training \n",
    "set and improve model generalization. By including one or more terms within\n",
    "the cost function to penalize the weights, the learning algorithm will try \n",
    "to fit the data while avoiding certain values for the weights that might \n",
    "overfit the data.\n",
    "\n",
    "\n",
    "### Data set\n",
    "The BMI data will be utilized. Recall: \n",
    "* _MI_ files contain data with the number of action potentials (spikes) for 48 neurons, at mutliple \n",
    "time points, for a single fold. There are 20 folds (20 files), where each fold consists \n",
    "of over 1000 times points (the rows). At each time point, we record the number of \n",
    "activations for each neuron for 20 bins. Therefore, each time point has 48 * 20 = 960 \n",
    "columns.  \n",
    "* _theta_ files record the angular position of the shoulder (in column 0) and the elbow \n",
    "(in column 1) for each time point (in radians).  \n",
    "* _dtheta_ files record the angular velocity of the shoulder (in column 0) and the elbow \n",
    "(in column 1) for each time point (in radians/sec).  \n",
    "* _torque_ files record the torque of the shoulder (in column 0) and the elbow (in column \n",
    "1) for each time point (N-m).  \n",
    "* _time_ files record the actual time stamp of each time point (seconds).  \n",
    "\n",
    "This assignment utilizes code examples and concepts from the lectures on Sept 19 - Oct 1.\n",
    "\n",
    "### Objectives\n",
    "* Use and understand regularization in regression\n",
    "* Learn to select hyper-parameters to tune model behavior, specifically:\n",
    "    * Regularization parameters\n",
    "    * Training set size\n",
    "    \n",
    "### Notes\n",
    "* Be sure to adequately label all the plots you generate.\n",
    "\n",
    "\n",
    "### General References\n",
    "* [Python Built-in Functions](https://docs.python.org/3/library/functions.html)\n",
    "* [Python Data Structures](https://docs.python.org/3/tutorial/datastructures.html)\n",
    "* [Numpy Reference](https://docs.scipy.org/doc/numpy/reference/index.html)\n",
    "* [Summary of matplotlib](https://matplotlib.org/3.1.1/api/pyplot_summary.html)\n",
    "* [Pandas DataFrames](https://urldefense.proofpoint.com/v2/url?u=https-3A__pandas.pydata.org_pandas-2Ddocs_stable_reference_api_pandas.DataFrame.html&d=DwMD-g&c=qKdtBuuu6dQK9MsRUVJ2DPXW6oayO8fu4TfEHS8sGNk&r=9ngmsG8rSmDSS-O0b_V0gP-nN_33Vr52qbY3KXuDY5k&m=mcOOc8D0knaNNmmnTEo_F_WmT4j6_nUSL_yoPmGlLWQ&s=h7hQjqucR7tZyfZXxnoy3iitIr32YlrqiFyPATkW3lw&e=)\n",
    "* [Sci-kit Learn Linear Models](https://scikit-learn.org/stable/modules/classes.html#module-sklearn.linear_model)\n",
    "* [Sci-kit Learn Ensemble Models](https://scikit-learn.org/stable/modules/classes.html#module-sklearn.ensemble)\n",
    "* [Sci-kit Learn Metrics](https://scikit-learn.org/stable/modules/classes.html#module-sklearn.metrics)\n",
    "* [Sci-kit Learn Model Selection](https://scikit-learn.org/stable/modules/classes.html#module-sklearn.model_selection)\n",
    "\n",
    "### Hand-In Procedure\n",
    "* Execute all cells so they are showing correct results\n",
    "* Notebook:\n",
    "  + Submit this file (.ipynb) to the Canvas HW5 dropbox\n",
    "* PDF:\n",
    "  + File/Print/Print to file -> Produces a copy of the notebook in PDF format\n",
    "  + Submit the PDF file to the Gradescope HW5 dropbox"
   ]
  },
  {
   "cell_type": "code",
   "execution_count": 2,
   "metadata": {},
   "outputs": [],
   "source": [
    "# PROVIDED\n",
    "\n",
    "import pandas as pd\n",
    "import numpy as np\n",
    "import os, re, fnmatch, time\n",
    "import matplotlib.pyplot as plt\n",
    "import joblib\n",
    "\n",
    "from sklearn.model_selection import GridSearchCV \n",
    "from sklearn.linear_model import LinearRegression, ElasticNet\n",
    "from sklearn.metrics import make_scorer\n",
    "\n",
    "FIGWIDTH = 6\n",
    "FIGHEIGHT = 6\n",
    "FONTSIZE = 10\n",
    "\n",
    "plt.rcParams['figure.figsize'] = (FIGWIDTH, FIGHEIGHT)\n",
    "plt.rcParams['font.size'] = FONTSIZE\n",
    "\n",
    "plt.rcParams['xtick.labelsize'] = FONTSIZE\n",
    "plt.rcParams['ytick.labelsize'] = FONTSIZE\n",
    "\n",
    "%matplotlib inline"
   ]
  },
  {
   "cell_type": "markdown",
   "metadata": {},
   "source": [
    "# LOAD DATA"
   ]
  },
  {
   "cell_type": "code",
   "execution_count": 3,
   "metadata": {},
   "outputs": [],
   "source": [
    "# PROVIDED\n",
    "\n",
    "def read_bmi_file_set(directory, filebase):\n",
    "    '''\n",
    "    Read a set of CSV files and append them together\n",
    "    :param directory: The directory in which to scan for the CSV files\n",
    "    :param filebase: A file specification that potentially includes wildcards\n",
    "    :returns: A list of Numpy arrays (one for each fold)\n",
    "    '''\n",
    "    \n",
    "    # The set of files in the directory\n",
    "    files = fnmatch.filter(os.listdir(directory), filebase)\n",
    "    files.sort()\n",
    "\n",
    "    # Create a list of Pandas objects; each from a file in the directory that matches filebase\n",
    "    lst = [pd.read_csv(directory + \"/\" + file, delim_whitespace=True, header=None).values for file in files]\n",
    "    \n",
    "    # Concatenate the Pandas objects together.  ignore_index is critical here so that\n",
    "    # the duplicate row indices are addressed\n",
    "    return lst"
   ]
  },
  {
   "cell_type": "code",
   "execution_count": 4,
   "metadata": {},
   "outputs": [
    {
     "data": {
      "text/plain": [
       "20"
      ]
     },
     "execution_count": 4,
     "metadata": {},
     "output_type": "execute_result"
    }
   ],
   "source": [
    "\"\"\" TODO\n",
    "Load the BMI data from all the folds, using read_bmi_file_set()\n",
    "\"\"\"\n",
    "# may need to adjust the filepath if you are not working on Oscer\n",
    "dir_name = '/home/nigel/Desktop/mlp/mlp_2020/datasets/bmi/DAT6_08'\n",
    "#loading data\n",
    "MI_folds = read_bmi_file_set(dir_name, 'MI_fold*')\n",
    "theta_folds = read_bmi_file_set(dir_name, 'theta_fold*')\n",
    "dtheta_folds = read_bmi_file_set(dir_name, 'dtheta_fold*')\n",
    "torque_folds = read_bmi_file_set(dir_name, 'torque_fold*')\n",
    "time_folds = read_bmi_file_set(dir_name, 'time_fold*')\n",
    "\n",
    "alldata_folds = zip(MI_folds, theta_folds, dtheta_folds, torque_folds, time_folds)\n",
    "\n",
    "nfolds = len(MI_folds)\n",
    "nfolds"
   ]
  },
  {
   "cell_type": "code",
   "execution_count": 5,
   "metadata": {},
   "outputs": [
    {
     "name": "stdout",
     "output_type": "stream",
     "text": [
      "FOLD  0  (1194, 960) (1194, 2) (1194, 2) (1194, 2) (1194, 1)\n",
      "FOLD  1  (1105, 960) (1105, 2) (1105, 2) (1105, 2) (1105, 1)\n",
      "FOLD  2  (1532, 960) (1532, 2) (1532, 2) (1532, 2) (1532, 1)\n",
      "FOLD  3  (1266, 960) (1266, 2) (1266, 2) (1266, 2) (1266, 1)\n",
      "FOLD  4  (1499, 960) (1499, 2) (1499, 2) (1499, 2) (1499, 1)\n",
      "FOLD  5  (1253, 960) (1253, 2) (1253, 2) (1253, 2) (1253, 1)\n",
      "FOLD  6  (1376, 960) (1376, 2) (1376, 2) (1376, 2) (1376, 1)\n",
      "FOLD  7  (1131, 960) (1131, 2) (1131, 2) (1131, 2) (1131, 1)\n",
      "FOLD  8  (1248, 960) (1248, 2) (1248, 2) (1248, 2) (1248, 1)\n",
      "FOLD  9  (1258, 960) (1258, 2) (1258, 2) (1258, 2) (1258, 1)\n",
      "FOLD 10  (1266, 960) (1266, 2) (1266, 2) (1266, 2) (1266, 1)\n",
      "FOLD 11  (1147, 960) (1147, 2) (1147, 2) (1147, 2) (1147, 1)\n",
      "FOLD 12  (1226, 960) (1226, 2) (1226, 2) (1226, 2) (1226, 1)\n",
      "FOLD 13  (1239, 960) (1239, 2) (1239, 2) (1239, 2) (1239, 1)\n",
      "FOLD 14  (1571, 960) (1571, 2) (1571, 2) (1571, 2) (1571, 1)\n",
      "FOLD 15  (1360, 960) (1360, 2) (1360, 2) (1360, 2) (1360, 1)\n",
      "FOLD 16  (1580, 960) (1580, 2) (1580, 2) (1580, 2) (1580, 1)\n",
      "FOLD 17  (1365, 960) (1365, 2) (1365, 2) (1365, 2) (1365, 1)\n",
      "FOLD 18  (1390, 960) (1390, 2) (1390, 2) (1390, 2) (1390, 1)\n",
      "FOLD 19  (1290, 960) (1290, 2) (1290, 2) (1290, 2) (1290, 1)\n"
     ]
    }
   ],
   "source": [
    "\"\"\"\n",
    "Print out the shape of all the data for each fold\n",
    "\"\"\"\n",
    "for i, (MI, theta, dtheta, torque, time) in enumerate(alldata_folds):\n",
    "    print(\"FOLD %2d \" % i, MI.shape, theta.shape, \n",
    "          dtheta.shape, torque.shape, time.shape)"
   ]
  },
  {
   "cell_type": "code",
   "execution_count": 6,
   "metadata": {},
   "outputs": [
    {
     "name": "stdout",
     "output_type": "stream",
     "text": [
      "FOLD  0\n",
      "[[0.04303586 1.7163499 ]\n",
      " [0.07592855 1.7351056 ]\n",
      " [0.13092623 1.728305  ]\n",
      " [0.20449087 1.6938625 ]\n",
      " [0.28873832 1.6359639 ]]\n",
      "FOLD  1\n",
      "[[0.45208906 1.4041636 ]\n",
      " [0.43492136 1.4420629 ]\n",
      " [0.40924987 1.5011598 ]\n",
      " [0.3782652  1.5710233 ]\n",
      " [0.34620736 1.6384762 ]]\n",
      "FOLD  2\n",
      "[[0.52770978 1.4720288 ]\n",
      " [0.51488065 1.4552057 ]\n",
      " [0.49425913 1.4322803 ]\n",
      " [0.46639178 1.4069214 ]\n",
      " [0.43195224 1.3847791 ]]\n"
     ]
    }
   ],
   "source": [
    "\"\"\" \n",
    "Print out the first few examples of the theta data\n",
    "for a few folds\n",
    "\"\"\"\n",
    "for i, theta in enumerate(theta_folds[:3]):\n",
    "    print(\"FOLD %2d\" % i)\n",
    "    print(theta[:5, :])"
   ]
  },
  {
   "cell_type": "code",
   "execution_count": 7,
   "metadata": {},
   "outputs": [
    {
     "name": "stdout",
     "output_type": "stream",
     "text": [
      "FOLD  0  False False False False False\n",
      "FOLD  1  False False False False False\n",
      "FOLD  2  False False False False False\n",
      "FOLD  3  False False False False False\n",
      "FOLD  4  False False False False False\n",
      "FOLD  5  False False False False False\n",
      "FOLD  6  False False False False False\n",
      "FOLD  7  False False False False False\n",
      "FOLD  8  False False False False False\n",
      "FOLD  9  False False False False False\n",
      "FOLD 10  False False False False False\n",
      "FOLD 11  False False False False False\n",
      "FOLD 12  False False False False False\n",
      "FOLD 13  False False False False False\n",
      "FOLD 14  False False False False False\n",
      "FOLD 15  False False False False False\n",
      "FOLD 16  False False False False False\n",
      "FOLD 17  False False False False False\n",
      "FOLD 18  False False False False False\n",
      "FOLD 19  False False False False False\n"
     ]
    }
   ],
   "source": [
    "\"\"\"\n",
    "Check the data for any NaNs\n",
    "\"\"\"\n",
    "def anynans(X):\n",
    "    return np.isnan(X).any()\n",
    "\n",
    "alldata_folds = zip(MI_folds, theta_folds, dtheta_folds, torque_folds, time_folds)\n",
    "\n",
    "for i, (MI, theta, dtheta, torque, time) in enumerate(alldata_folds):\n",
    "    print(\"FOLD %2d \" % i, anynans(MI), anynans(theta), \n",
    "          anynans(dtheta), anynans(torque), anynans(time))"
   ]
  },
  {
   "cell_type": "markdown",
   "metadata": {},
   "source": [
    "# REGULARIZED REGRESSION"
   ]
  },
  {
   "cell_type": "code",
   "execution_count": 191,
   "metadata": {},
   "outputs": [],
   "source": [
    "\"\"\" TODO\n",
    "Evaluate the training performance of an already trained model\n",
    "\"\"\"\n",
    "def mse_rmse(trues, preds):\n",
    "    '''\n",
    "    Compute MSE and rMSE for each column separately.\n",
    "    '''\n",
    "    mse = np.sum(np.square(trues - preds), axis=0) / trues.shape[0]\n",
    "    rmse = np.sqrt(mse)\n",
    "    return mse, rmse\n",
    "\n",
    "def predict_score_eval(model, X, y):\n",
    "    '''\n",
    "    Compute the model predictions and cooresponding scores.\n",
    "    PARAMS:\n",
    "        X: feature data\n",
    "        y: cooresponding output\n",
    "    RETURNS:\n",
    "        mse: mean squared error for each column\n",
    "        rmse: rMSE in radians\n",
    "        score: score computed by the models score() method\n",
    "        preds: predictions of the model from X\n",
    "    '''\n",
    "    \n",
    "    # TODO: follow similar example to HW4 to complete implementation\n",
    "    #calling predict and score, also calling mse_rmse\n",
    "    preds = model.predict(X)\n",
    "    score = model.score(X,y)\n",
    "    mse, rmse = mse_rmse(y, preds)\n",
    "    \n",
    "    return mse, rmse, score, preds\n",
    "\n",
    "\n",
    "\"\"\" TODO\n",
    "Create scoring function object for gridsearch\n",
    "\n",
    "This represents a more general way of creating a scoring mechanism than\n",
    "what was discussed in the lectures.\n",
    "\n",
    "GridSearchCV: https://scikit-learn.org/stable/modules/generated/sklearn.model_selection.GridSearchCV.html\n",
    "make_scorer: https://scikit-learn.org/stable/modules/generated/sklearn.metrics.make_scorer.html\n",
    "\n",
    "\"\"\"\n",
    "def rmse_scorer(trues, preds):\n",
    "    '''\n",
    "    Compute rMSE\n",
    "    '''\n",
    "    \n",
    "    #cammse mse_rmse\n",
    "    mse, rmse = mse_rmse(trues, preds)\n",
    "    return rmse\n",
    "\n",
    "# Make the scoring function for GridSearch\n",
    "rmse_scoring = make_scorer(rmse_scorer, greater_is_better=False)"
   ]
  },
  {
   "cell_type": "code",
   "execution_count": 192,
   "metadata": {},
   "outputs": [],
   "source": [
    "\"\"\"\n",
    "Construct training set to obtain best model and testing set for \n",
    "evaluation. The model will focus on predicting the shoulder torque.\n",
    "\"\"\"\n",
    "# Extract fold indices for the training and testing sets\n",
    "trainset_fold_inds = [5, 6] \n",
    "testset_fold_inds = [8, 9] \n",
    "\n",
    "# Combine the folds into singular numpy arrays\n",
    "# Training set\n",
    "MI_trainset = [MI_folds[f] for f in trainset_fold_inds]\n",
    "torque_trainset = [torque_folds[f] for f in trainset_fold_inds]\n",
    "time_trainset = [time_folds[f] for f in trainset_fold_inds]\n",
    "\n",
    "X = np.concatenate(MI_trainset, axis=0)\n",
    "y = np.concatenate(torque_trainset, axis=0)[:,0]\n",
    "time = np.concatenate(time_trainset, axis=0)\n",
    "\n",
    "# Testing set\n",
    "MI_testset = [MI_folds[f] for f in testset_fold_inds]\n",
    "torque_testset = [torque_folds[f] for f in testset_fold_inds]\n",
    "time_testset = [time_folds[f] for f in testset_fold_inds]\n",
    "\n",
    "Xtest = np.concatenate(MI_testset, axis=0)\n",
    "ytest = np.concatenate(torque_testset, axis=0)[:,0]\n",
    "time_test = np.concatenate(time_testset, axis=0)"
   ]
  },
  {
   "cell_type": "code",
   "execution_count": 193,
   "metadata": {},
   "outputs": [
    {
     "data": {
      "text/plain": [
       "((2629, 960), (2629,), (2506, 960), (2506,))"
      ]
     },
     "execution_count": 193,
     "metadata": {},
     "output_type": "execute_result"
    }
   ],
   "source": [
    "X.shape, y.shape, Xtest.shape, ytest.shape"
   ]
  },
  {
   "cell_type": "markdown",
   "metadata": {},
   "source": [
    "## Linear Model"
   ]
  },
  {
   "cell_type": "code",
   "execution_count": 194,
   "metadata": {},
   "outputs": [
    {
     "name": "stdout",
     "output_type": "stream",
     "text": [
      "Training rMSE  0.06272460011342579\n",
      "Testing rMSE  0.10205029259987247\n"
     ]
    }
   ],
   "source": [
    "\"\"\" TODO\n",
    "Construct and train the default linear model using the training set.\n",
    "Display the Training and Testing rMSEs.\n",
    "You can use the rmse_scorer for this.\n",
    "\"\"\"\n",
    "\n",
    "#creating linear model, fitting it, and getting preds for rmse_scorer for output\n",
    "linear = LinearRegression().fit(X,y)\n",
    "preds = linear.predict(X)\n",
    "print('Training rMSE ', rmse_scorer(y, preds))\n",
    "#this preds is for testing set\n",
    "preds = linear.predict(Xtest)\n",
    "print('Testing rMSE ', rmse_scorer(ytest, preds))\n"
   ]
  },
  {
   "cell_type": "markdown",
   "metadata": {},
   "source": [
    "## Grid Search and ElasticNet Model"
   ]
  },
  {
   "cell_type": "code",
   "execution_count": 12,
   "metadata": {},
   "outputs": [
    {
     "data": {
      "text/plain": [
       "[{'alpha': array([9.76562500e-04, 5.06577951e-03, 2.62780130e-02, 1.36313467e-01,\n",
       "         7.07106781e-01, 3.66801617e+00, 1.90273138e+01, 9.87014928e+01,\n",
       "         5.12000000e+02]),\n",
       "  'l1_ratio': array([0. , 0.2, 0.4, 0.6, 0.8, 1. ]),\n",
       "  'max_iter': [10000.0]}]"
      ]
     },
     "execution_count": 12,
     "metadata": {},
     "output_type": "execute_result"
    }
   ],
   "source": [
    "\"\"\" TODO\n",
    "Specify the parameter search grid as a dictionary, and display it\n",
    "\"\"\"\n",
    "alphas = np.logspace(-10, 9, base=2, num=9, endpoint=True)\n",
    "l1_ratios = np.arange(0, 1.2, .2)\n",
    "max_iters = [1e4]\n",
    "nalphas = len(alphas)\n",
    "nl1_ratios = len(l1_ratios)\n",
    "\n",
    "#creating a dictionary for gridsearch\n",
    "param_grid = [{'alpha':alphas, 'l1_ratio':l1_ratios, 'max_iter':max_iters}]\n",
    "param_grid"
   ]
  },
  {
   "cell_type": "code",
   "execution_count": 13,
   "metadata": {},
   "outputs": [
    {
     "name": "stdout",
     "output_type": "stream",
     "text": [
      "Fitting 10 folds for each of 54 candidates, totalling 540 fits\n"
     ]
    },
    {
     "name": "stderr",
     "output_type": "stream",
     "text": [
      "[Parallel(n_jobs=-1)]: Using backend LokyBackend with 4 concurrent workers.\n",
      "[Parallel(n_jobs=-1)]: Done  42 tasks      | elapsed:  4.2min\n",
      "[Parallel(n_jobs=-1)]: Done 192 tasks      | elapsed: 19.0min\n",
      "[Parallel(n_jobs=-1)]: Done 442 tasks      | elapsed: 37.9min\n",
      "[Parallel(n_jobs=-1)]: Done 540 out of 540 | elapsed: 43.6min finished\n",
      "/home/nigel/.local/lib/python3.8/site-packages/sklearn/model_selection/_search.py:847: FutureWarning: The parameter 'iid' is deprecated in 0.22 and will be removed in 0.24.\n",
      "  warnings.warn(\n",
      "/home/nigel/.local/lib/python3.8/site-packages/sklearn/linear_model/_coordinate_descent.py:529: ConvergenceWarning: Objective did not converge. You might want to increase the number of iterations. Duality gap: 11.830944698368521, tolerance: 0.00975858493662234\n",
      "  model = cd_fast.enet_coordinate_descent(\n"
     ]
    }
   ],
   "source": [
    "\"\"\" TODO\n",
    "Perform the GridSearch using an ElasticNet model and the parameter grid \n",
    "constructed above. Use 10 cross validation folds, rmse_scoring for \n",
    "the scoring function, return_train_score=True, iid=False, \n",
    "and set the verbosity to 1. Use n_jobs = -1, to make use of all available \n",
    "processors. Execute the grid search using the training data.\n",
    "\"\"\"\n",
    "gridsearchfname = \"hw5_gridsearch.pkl\"\n",
    "search = None\n",
    "if os.path.exists(gridsearchfname):\n",
    "    # Gridsearch was already completed and saved: use this instead\n",
    "    search = joblib.load(gridsearchfname)\n",
    "else:\n",
    "    # Perform the grid search\n",
    "    \n",
    "    #calling elasticnet then calling gridseachcv\n",
    "    model = ElasticNet()\n",
    "    search = GridSearchCV(model, param_grid, cv = 10, scoring=rmse_scoring, \n",
    "                          return_train_score=True, iid=False, verbose=1, n_jobs=-1)\n",
    "        \n",
    "    # TODO: fit the search to the data\n",
    "    #fitting search\n",
    "    search.fit(X,y)\n",
    "    joblib.dump(search, \"hw5_gridsearch.pkl\")\n"
   ]
  },
  {
   "cell_type": "code",
   "execution_count": 35,
   "metadata": {},
   "outputs": [
    {
     "name": "stdout",
     "output_type": "stream",
     "text": [
      "{'alpha': 0.7071067811865476, 'l1_ratio': 0.0, 'max_iter': 10000.0}\n"
     ]
    }
   ],
   "source": [
    "\"\"\" TODO\n",
    "Get and display the best parameter set\n",
    "\n",
    "Note: see the best_params_ property of the GridSearchCV object\n",
    "\"\"\"\n",
    "\n",
    "#getting best parameter set and displaying it\n",
    "best_param_set = search.best_params_\n",
    "print(best_param_set)"
   ]
  },
  {
   "cell_type": "code",
   "execution_count": 25,
   "metadata": {},
   "outputs": [
    {
     "name": "stdout",
     "output_type": "stream",
     "text": [
      "ElasticNet(alpha=0.7071067811865476, l1_ratio=0.0, max_iter=10000.0)\n"
     ]
    },
    {
     "name": "stderr",
     "output_type": "stream",
     "text": [
      "/home/nigel/.local/lib/python3.8/site-packages/sklearn/linear_model/_coordinate_descent.py:529: ConvergenceWarning: Objective did not converge. You might want to increase the number of iterations. Duality gap: 11.830944698368521, tolerance: 0.00975858493662234\n",
      "  model = cd_fast.enet_coordinate_descent(\n"
     ]
    }
   ],
   "source": [
    "\"\"\" TODO\n",
    "Get and fit the best estimator to the training data\n",
    "\n",
    "Note: see the best_estimator_ property of the GridSearchCV object\n",
    "\"\"\"\n",
    "\n",
    "#getting best estimator and fitting it\n",
    "best_estimator = search.best_estimator_\n",
    "best_estimator.fit(X, y)\n"
   ]
  },
  {
   "cell_type": "code",
   "execution_count": 36,
   "metadata": {},
   "outputs": [
    {
     "data": {
      "text/html": [
       "<div>\n",
       "<style scoped>\n",
       "    .dataframe tbody tr th:only-of-type {\n",
       "        vertical-align: middle;\n",
       "    }\n",
       "\n",
       "    .dataframe tbody tr th {\n",
       "        vertical-align: top;\n",
       "    }\n",
       "\n",
       "    .dataframe thead th {\n",
       "        text-align: right;\n",
       "    }\n",
       "</style>\n",
       "<table border=\"1\" class=\"dataframe\">\n",
       "  <thead>\n",
       "    <tr style=\"text-align: right;\">\n",
       "      <th></th>\n",
       "      <th>mean_fit_time</th>\n",
       "      <th>std_fit_time</th>\n",
       "      <th>mean_score_time</th>\n",
       "      <th>std_score_time</th>\n",
       "      <th>param_alpha</th>\n",
       "      <th>param_l1_ratio</th>\n",
       "      <th>param_max_iter</th>\n",
       "      <th>params</th>\n",
       "      <th>split0_test_score</th>\n",
       "      <th>split1_test_score</th>\n",
       "      <th>...</th>\n",
       "      <th>split2_train_score</th>\n",
       "      <th>split3_train_score</th>\n",
       "      <th>split4_train_score</th>\n",
       "      <th>split5_train_score</th>\n",
       "      <th>split6_train_score</th>\n",
       "      <th>split7_train_score</th>\n",
       "      <th>split8_train_score</th>\n",
       "      <th>split9_train_score</th>\n",
       "      <th>mean_train_score</th>\n",
       "      <th>std_train_score</th>\n",
       "    </tr>\n",
       "  </thead>\n",
       "  <tbody>\n",
       "    <tr>\n",
       "      <th>0</th>\n",
       "      <td>112.077216</td>\n",
       "      <td>2.738757</td>\n",
       "      <td>0.003394</td>\n",
       "      <td>0.000516</td>\n",
       "      <td>0.000976562</td>\n",
       "      <td>0</td>\n",
       "      <td>10000</td>\n",
       "      <td>{'alpha': 0.0009765625, 'l1_ratio': 0.0, 'max_...</td>\n",
       "      <td>-0.106149</td>\n",
       "      <td>-0.092582</td>\n",
       "      <td>...</td>\n",
       "      <td>-0.057463</td>\n",
       "      <td>-0.057721</td>\n",
       "      <td>-0.062261</td>\n",
       "      <td>-0.062204</td>\n",
       "      <td>-0.061885</td>\n",
       "      <td>-0.062173</td>\n",
       "      <td>-0.057877</td>\n",
       "      <td>-0.058921</td>\n",
       "      <td>-0.060292</td>\n",
       "      <td>0.001981</td>\n",
       "    </tr>\n",
       "    <tr>\n",
       "      <th>1</th>\n",
       "      <td>1.678367</td>\n",
       "      <td>0.089537</td>\n",
       "      <td>0.003532</td>\n",
       "      <td>0.001295</td>\n",
       "      <td>0.000976562</td>\n",
       "      <td>0.2</td>\n",
       "      <td>10000</td>\n",
       "      <td>{'alpha': 0.0009765625, 'l1_ratio': 0.2, 'max_...</td>\n",
       "      <td>-0.093914</td>\n",
       "      <td>-0.079920</td>\n",
       "      <td>...</td>\n",
       "      <td>-0.059808</td>\n",
       "      <td>-0.060140</td>\n",
       "      <td>-0.064302</td>\n",
       "      <td>-0.064424</td>\n",
       "      <td>-0.063895</td>\n",
       "      <td>-0.064362</td>\n",
       "      <td>-0.060180</td>\n",
       "      <td>-0.061418</td>\n",
       "      <td>-0.062535</td>\n",
       "      <td>0.001864</td>\n",
       "    </tr>\n",
       "    <tr>\n",
       "      <th>2</th>\n",
       "      <td>1.349998</td>\n",
       "      <td>0.090252</td>\n",
       "      <td>0.003167</td>\n",
       "      <td>0.000281</td>\n",
       "      <td>0.000976562</td>\n",
       "      <td>0.4</td>\n",
       "      <td>10000</td>\n",
       "      <td>{'alpha': 0.0009765625, 'l1_ratio': 0.4, 'max_...</td>\n",
       "      <td>-0.087069</td>\n",
       "      <td>-0.074864</td>\n",
       "      <td>...</td>\n",
       "      <td>-0.062590</td>\n",
       "      <td>-0.063353</td>\n",
       "      <td>-0.066961</td>\n",
       "      <td>-0.067099</td>\n",
       "      <td>-0.066373</td>\n",
       "      <td>-0.067051</td>\n",
       "      <td>-0.062913</td>\n",
       "      <td>-0.064562</td>\n",
       "      <td>-0.065350</td>\n",
       "      <td>0.001749</td>\n",
       "    </tr>\n",
       "    <tr>\n",
       "      <th>3</th>\n",
       "      <td>1.050393</td>\n",
       "      <td>0.073994</td>\n",
       "      <td>0.003432</td>\n",
       "      <td>0.000408</td>\n",
       "      <td>0.000976562</td>\n",
       "      <td>0.6</td>\n",
       "      <td>10000</td>\n",
       "      <td>{'alpha': 0.0009765625, 'l1_ratio': 0.60000000...</td>\n",
       "      <td>-0.082867</td>\n",
       "      <td>-0.072308</td>\n",
       "      <td>...</td>\n",
       "      <td>-0.065075</td>\n",
       "      <td>-0.065841</td>\n",
       "      <td>-0.069335</td>\n",
       "      <td>-0.069451</td>\n",
       "      <td>-0.068842</td>\n",
       "      <td>-0.069466</td>\n",
       "      <td>-0.065173</td>\n",
       "      <td>-0.067235</td>\n",
       "      <td>-0.067823</td>\n",
       "      <td>0.001751</td>\n",
       "    </tr>\n",
       "    <tr>\n",
       "      <th>4</th>\n",
       "      <td>0.911781</td>\n",
       "      <td>0.079315</td>\n",
       "      <td>0.003416</td>\n",
       "      <td>0.000759</td>\n",
       "      <td>0.000976562</td>\n",
       "      <td>0.8</td>\n",
       "      <td>10000</td>\n",
       "      <td>{'alpha': 0.0009765625, 'l1_ratio': 0.8, 'max_...</td>\n",
       "      <td>-0.079891</td>\n",
       "      <td>-0.071309</td>\n",
       "      <td>...</td>\n",
       "      <td>-0.067201</td>\n",
       "      <td>-0.067922</td>\n",
       "      <td>-0.071483</td>\n",
       "      <td>-0.071575</td>\n",
       "      <td>-0.071204</td>\n",
       "      <td>-0.071770</td>\n",
       "      <td>-0.067200</td>\n",
       "      <td>-0.069694</td>\n",
       "      <td>-0.070058</td>\n",
       "      <td>0.001828</td>\n",
       "    </tr>\n",
       "  </tbody>\n",
       "</table>\n",
       "<p>5 rows × 33 columns</p>\n",
       "</div>"
      ],
      "text/plain": [
       "   mean_fit_time  std_fit_time  mean_score_time  std_score_time  param_alpha  \\\n",
       "0     112.077216      2.738757         0.003394        0.000516  0.000976562   \n",
       "1       1.678367      0.089537         0.003532        0.001295  0.000976562   \n",
       "2       1.349998      0.090252         0.003167        0.000281  0.000976562   \n",
       "3       1.050393      0.073994         0.003432        0.000408  0.000976562   \n",
       "4       0.911781      0.079315         0.003416        0.000759  0.000976562   \n",
       "\n",
       "  param_l1_ratio param_max_iter  \\\n",
       "0              0          10000   \n",
       "1            0.2          10000   \n",
       "2            0.4          10000   \n",
       "3            0.6          10000   \n",
       "4            0.8          10000   \n",
       "\n",
       "                                              params  split0_test_score  \\\n",
       "0  {'alpha': 0.0009765625, 'l1_ratio': 0.0, 'max_...          -0.106149   \n",
       "1  {'alpha': 0.0009765625, 'l1_ratio': 0.2, 'max_...          -0.093914   \n",
       "2  {'alpha': 0.0009765625, 'l1_ratio': 0.4, 'max_...          -0.087069   \n",
       "3  {'alpha': 0.0009765625, 'l1_ratio': 0.60000000...          -0.082867   \n",
       "4  {'alpha': 0.0009765625, 'l1_ratio': 0.8, 'max_...          -0.079891   \n",
       "\n",
       "   split1_test_score  ...  split2_train_score  split3_train_score  \\\n",
       "0          -0.092582  ...           -0.057463           -0.057721   \n",
       "1          -0.079920  ...           -0.059808           -0.060140   \n",
       "2          -0.074864  ...           -0.062590           -0.063353   \n",
       "3          -0.072308  ...           -0.065075           -0.065841   \n",
       "4          -0.071309  ...           -0.067201           -0.067922   \n",
       "\n",
       "   split4_train_score  split5_train_score  split6_train_score  \\\n",
       "0           -0.062261           -0.062204           -0.061885   \n",
       "1           -0.064302           -0.064424           -0.063895   \n",
       "2           -0.066961           -0.067099           -0.066373   \n",
       "3           -0.069335           -0.069451           -0.068842   \n",
       "4           -0.071483           -0.071575           -0.071204   \n",
       "\n",
       "   split7_train_score  split8_train_score  split9_train_score  \\\n",
       "0           -0.062173           -0.057877           -0.058921   \n",
       "1           -0.064362           -0.060180           -0.061418   \n",
       "2           -0.067051           -0.062913           -0.064562   \n",
       "3           -0.069466           -0.065173           -0.067235   \n",
       "4           -0.071770           -0.067200           -0.069694   \n",
       "\n",
       "   mean_train_score  std_train_score  \n",
       "0         -0.060292         0.001981  \n",
       "1         -0.062535         0.001864  \n",
       "2         -0.065350         0.001749  \n",
       "3         -0.067823         0.001751  \n",
       "4         -0.070058         0.001828  \n",
       "\n",
       "[5 rows x 33 columns]"
      ]
     },
     "metadata": {},
     "output_type": "display_data"
    }
   ],
   "source": [
    "\"\"\" TODO\n",
    "Get and display the first few lines of results from the gridsearch \n",
    "\n",
    "Note: see the cv_results_ property of GridSearchCV. And, remember \n",
    "that this dict can be converted to a DataFrame\n",
    "\"\"\"\n",
    "\n",
    "#getting the data, setting it to a dataframe, the calling head\n",
    "stats = search.cv_results_\n",
    "df = pd.DataFrame(stats)\n",
    "display(df.head())"
   ]
  },
  {
   "cell_type": "code",
   "execution_count": 56,
   "metadata": {},
   "outputs": [],
   "source": [
    "\"\"\" TODO\n",
    "Extract and negate the mean_train_score\n",
    "\"\"\"\n",
    "#extracting main_train_score and negating the negatives\n",
    "mean_train_score = np.array(-stats['mean_train_score'])"
   ]
  },
  {
   "cell_type": "code",
   "execution_count": 58,
   "metadata": {},
   "outputs": [],
   "source": [
    "\"\"\" TODO\n",
    "Extract and negate the mean_test_score\n",
    "\n",
    "Note: although scikit-learn refers to this as a \"test score,\" it is actually\n",
    "a validation score.  Remember, you are not allowed to look at the test set\n",
    "performance across a grid of parameter choices (only look at the one test score \n",
    "for the hyper parameter set that you select).\n",
    "\"\"\"\n",
    "#extracting the mean_test_score and negating the negatives\n",
    "mean_test_score = np.array(-stats['mean_test_score'])"
   ]
  },
  {
   "cell_type": "code",
   "execution_count": 42,
   "metadata": {},
   "outputs": [
    {
     "name": "stdout",
     "output_type": "stream",
     "text": [
      "Train rmse  0.07884099144651642\n",
      "Test rmse  0.07954707193202129\n"
     ]
    }
   ],
   "source": [
    "\"\"\" TODO\n",
    "Display the Training and Testing rMSEs for the best estimator.\n",
    "You can use rmse_scorer for this\n",
    "\"\"\"\n",
    "# Train rmse\n",
    "\n",
    "#displaying the rmse with training using best estimator\n",
    "best_preds = best_estimator.predict(X)\n",
    "train_rmse = rmse_scorer(y, best_preds)\n",
    "print('Train rmse ', train_rmse)\n",
    "# Test rmse (note: this is the proper test set)\n",
    "\n",
    "#displaying the rmse with testing using best estimator\n",
    "best_preds = best_estimator.predict(Xtest)\n",
    "test_rmse = rmse_scorer(ytest, best_preds)\n",
    "print('Test rmse ',test_rmse)"
   ]
  },
  {
   "cell_type": "code",
   "execution_count": 83,
   "metadata": {},
   "outputs": [
    {
     "data": {
      "text/plain": [
       "(1170.0, 1187.0)"
      ]
     },
     "execution_count": 83,
     "metadata": {},
     "output_type": "execute_result"
    },
    {
     "data": {
      "image/png": "[encoded data removed]",
      "text/plain": [
       "<Figure size 432x288 with 1 Axes>"
      ]
     },
     "metadata": {
      "needs_background": "light"
     },
     "output_type": "display_data"
    }
   ],
   "source": [
    "\"\"\" TODO\n",
    "Plot the test set predictions for the best model compared with\n",
    "the ground truth and the test set predictions from the linear model, \n",
    "for 1170 to 1187 seconds\n",
    "\"\"\"\n",
    "\n",
    "#plotting the data\n",
    "xlim = [1170, 1187]\n",
    "legends = ['Best Model Test Preds', 'Ground Truth', 'Linear Test Preds']\n",
    "fig, axs = plt.subplots(1)\n",
    "axs.plot(time_test, best_preds)\n",
    "axs.plot(time_test, ytest)\n",
    "axs.plot(time_test, preds)\n",
    "axs.set_xlabel('Time (s)')\n",
    "axs.set_ylabel(r'$\\tau \\;(Nm)$')\n",
    "axs.legend(legends, loc='upper left')\n",
    "axs.set_xlim(xlim)"
   ]
  },
  {
   "cell_type": "code",
   "execution_count": 189,
   "metadata": {},
   "outputs": [
    {
     "data": {
      "text/plain": [
       "<matplotlib.colorbar.Colorbar at 0x7fa0a9769460>"
      ]
     },
     "execution_count": 189,
     "metadata": {},
     "output_type": "execute_result"
    },
    {
     "data": {
      "image/png": "[encoded data removed]",
      "text/plain": [
       "<Figure size 432x288 with 4 Axes>"
      ]
     },
     "metadata": {
      "needs_background": "light"
     },
     "output_type": "display_data"
    }
   ],
   "source": [
    "\"\"\" TODO\n",
    "Plot the mean training and validation results from the grid search as a \n",
    "colormap, for the alpha (y-axis) vs the l1 ratio (x-axis). Use two subplots, \n",
    "subplot(1,2,1) for the training set performance and subplot(1,2,2) for the \n",
    "validation set performance. You can use imshow or matshow to display colormaps. \n",
    "Make sure to include appropriate labels, ticks, and colorbars. Use the imshow function\n",
    "within matplotlib.pyplot.\n",
    "\"\"\"\n",
    "#creating a color graph for mean training\n",
    "from mpl_toolkits.axes_grid1 import make_axes_locatable\n",
    "fig, axs = plt.subplots(2)\n",
    "fig.subplots_adjust(wspace=1.5)\n",
    "axs[0] = plt.subplot(1,2,1)\n",
    "axs[0].set_title('Mean Training')\n",
    "axs[0].imshow(mean_train_score.reshape(nalphas, nl1_ratios), cmap='jet')\n",
    "axs[0].set_xticks(np.arange(nl1_ratios))\n",
    "axs[0].set_yticks(np.arange(nalphas))\n",
    "axs[0].set_xticklabels(np.around(l1_ratios,4), fontsize=12)\n",
    "axs[0].set_yticklabels(np.around(alphas,4), fontsize=12)\n",
    "plt.setp(axs[0].get_xticklabels(), rotation=45, ha='right', rotation_mode='anchor')\n",
    "plt.xlabel('L1 Ratio')\n",
    "plt.ylabel('Alpha')\n",
    "img = axs[0].imshow(mean_train_score.reshape(nalphas, nl1_ratios), cmap='jet')\n",
    "divider = make_axes_locatable(axs[0])\n",
    "cax = divider.append_axes(\"right\", size=\"5%\", pad=0.05)\n",
    "plt.colorbar(img, cax=cax)\n",
    "\n",
    "#creating a color graph for mean validation\n",
    "axs[1] = plt.subplot(1,2,2)\n",
    "axs[1].set_title('Mean Validation')\n",
    "axs[1].imshow(mean_test_score.reshape(nalphas, nl1_ratios), cmap='jet')\n",
    "axs[1].set_xticks(np.arange(nl1_ratios))\n",
    "axs[1].set_yticks(np.arange(nalphas))\n",
    "axs[1].set_xticklabels(np.around(l1_ratios,4), fontsize=12)\n",
    "axs[1].set_yticklabels(np.around(alphas,4), fontsize=12)\n",
    "plt.setp(axs[1].get_xticklabels(), rotation=45, ha='right', rotation_mode='anchor')\n",
    "plt.xlabel('L1 Ratio')\n",
    "plt.ylabel('Alpha')\n",
    "img = axs[1].imshow(mean_test_score.reshape(nalphas, nl1_ratios), cmap='jet')\n",
    "divider = make_axes_locatable(axs[1])\n",
    "cax = divider.append_axes(\"right\", size=\"5%\", pad=0.05)\n",
    "plt.colorbar(img, cax=cax)"
   ]
  },
  {
   "cell_type": "code",
   "execution_count": 214,
   "metadata": {},
   "outputs": [
    {
     "data": {
      "text/plain": [
       "<matplotlib.legend.Legend at 0x7fa0b7be8e80>"
      ]
     },
     "execution_count": 214,
     "metadata": {},
     "output_type": "execute_result"
    },
    {
     "data": {
      "image/png": "[encoded data removed]",
      "text/plain": [
       "<Figure size 432x288 with 1 Axes>"
      ]
     },
     "metadata": {
      "needs_background": "light"
     },
     "output_type": "display_data"
    }
   ],
   "source": [
    "\"\"\" TODO\n",
    "Generate a plot that contains two overlapping histograms:\n",
    "- Coefficients discovered by LinearRegression\n",
    "- Coefficients discovered by the best ElasticNet \n",
    "    (best is relative to the validation performnce)\n",
    "\"\"\"\n",
    "\n",
    "#plotting the coefficients for both linear regression and elasticnet\n",
    "nbins = 21\n",
    "best_coef = best_estimator.coef_\n",
    "linear_coef = linear.coef_\n",
    "plt.title('Coefficients')\n",
    "plt.hist(best_coef, bins=nbins, alpha=.5, label='Linear Regression')\n",
    "plt.hist(linear_coef, bins=nbins, alpha=.5, label='Best ElasticNet')\n",
    "plt.legend()"
   ]
  },
  {
   "cell_type": "code",
   "execution_count": null,
   "metadata": {},
   "outputs": [],
   "source": []
  }
 ],
 "metadata": {
  "kernelspec": {
   "display_name": "Python 3",
   "language": "python",
   "name": "python3"
  },
  "language_info": {
   "codemirror_mode": {
    "name": "ipython",
    "version": 3
   },
   "file_extension": ".py",
   "mimetype": "text/x-python",
   "name": "python",
   "nbconvert_exporter": "python",
   "pygments_lexer": "ipython3",
   "version": "3.8.5"
  },
  "toc": {
   "base_numbering": 1,
   "nav_menu": {},
   "number_sections": true,
   "sideBar": true,
   "skip_h1_title": false,
   "title_cell": "Table of Contents",
   "title_sidebar": "Contents",
   "toc_cell": false,
   "toc_position": {},
   "toc_section_display": true,
   "toc_window_display": false
  }
 },
 "nbformat": 4,
 "nbformat_minor": 4
}
